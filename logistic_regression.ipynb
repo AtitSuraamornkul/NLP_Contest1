{
 "cells": [
  {
   "cell_type": "code",
   "execution_count": 1,
   "id": "b6e17078",
   "metadata": {},
   "outputs": [],
   "source": [
    "import pandas as pd\n",
    "import numpy as np\n",
    "import re\n",
    "from sklearn.model_selection import train_test_split\n",
    "from sklearn.preprocessing import MultiLabelBinarizer\n",
    "from sklearn.feature_extraction.text import TfidfVectorizer\n"
   ]
  },
  {
   "cell_type": "code",
   "execution_count": 7,
   "id": "85940090",
   "metadata": {},
   "outputs": [
    {
     "name": "stdout",
     "output_type": "stream",
     "text": [
      "     id                                               text  \\\n",
      "0  1370    I'm still mad that i had to pay for lousy food.   \n",
      "1  1212  It's really a takeaway place, I wouldn't sit i...   \n",
      "2  2958  It is sometimes a little cramped, and can get ...   \n",
      "3  2647  Patroon features a nice cigar bar and has grea...   \n",
      "4  1328  Also, the hostess called me today to thank us ...   \n",
      "\n",
      "            aspectCategory  polarity  \n",
      "0                     food  negative  \n",
      "1  anecdotes/miscellaneous   neutral  \n",
      "2                 ambience  conflict  \n",
      "3                  service  positive  \n",
      "4                  service  positive  \n",
      "Index(['id', 'text', 'aspectCategory', 'polarity'], dtype='object')\n"
     ]
    }
   ],
   "source": [
    "train_df = pd.read_csv(\"train_split.csv\")\n",
    "val_df   = pd.read_csv(\"val_split.csv\")\n",
    "\n",
    "print(train_df.head())\n",
    "print(train_df.columns)\n"
   ]
  },
  {
   "cell_type": "code",
   "execution_count": 8,
   "id": "f9d5793c",
   "metadata": {},
   "outputs": [],
   "source": [
    "def clean_text(text):\n",
    "    text = text.lower()\n",
    "    text = re.sub(r\"[^a-zA-Z\\s]\", \"\", text)   # remove non-letters\n",
    "    text = re.sub(r\"\\s+\", \" \", text).strip()  # normalize whitespace\n",
    "    return text\n",
    "\n",
    "train_df[\"clean_text\"] = train_df[\"text\"].apply(clean_text)\n",
    "val_df[\"clean_text\"]   = val_df[\"text\"].apply(clean_text)\n"
   ]
  },
  {
   "cell_type": "code",
   "execution_count": 22,
   "id": "56abf07d",
   "metadata": {},
   "outputs": [
    {
     "data": {
      "text/html": [
       "<div>\n",
       "<style scoped>\n",
       "    .dataframe tbody tr th:only-of-type {\n",
       "        vertical-align: middle;\n",
       "    }\n",
       "\n",
       "    .dataframe tbody tr th {\n",
       "        vertical-align: top;\n",
       "    }\n",
       "\n",
       "    .dataframe thead th {\n",
       "        text-align: right;\n",
       "    }\n",
       "</style>\n",
       "<table border=\"1\" class=\"dataframe\">\n",
       "  <thead>\n",
       "    <tr style=\"text-align: right;\">\n",
       "      <th></th>\n",
       "      <th>id</th>\n",
       "      <th>text</th>\n",
       "      <th>aspectCategory</th>\n",
       "      <th>polarity</th>\n",
       "      <th>clean_text</th>\n",
       "    </tr>\n",
       "  </thead>\n",
       "  <tbody>\n",
       "    <tr>\n",
       "      <th>0</th>\n",
       "      <td>1370</td>\n",
       "      <td>I'm still mad that i had to pay for lousy food.</td>\n",
       "      <td>food</td>\n",
       "      <td>negative</td>\n",
       "      <td>im still mad that i had to pay for lousy food</td>\n",
       "    </tr>\n",
       "    <tr>\n",
       "      <th>1</th>\n",
       "      <td>1212</td>\n",
       "      <td>It's really a takeaway place, I wouldn't sit i...</td>\n",
       "      <td>anecdotes/miscellaneous</td>\n",
       "      <td>neutral</td>\n",
       "      <td>its really a takeaway place i wouldnt sit if i...</td>\n",
       "    </tr>\n",
       "    <tr>\n",
       "      <th>2</th>\n",
       "      <td>2958</td>\n",
       "      <td>It is sometimes a little cramped, and can get ...</td>\n",
       "      <td>ambience</td>\n",
       "      <td>conflict</td>\n",
       "      <td>it is sometimes a little cramped and can get a...</td>\n",
       "    </tr>\n",
       "    <tr>\n",
       "      <th>3</th>\n",
       "      <td>2647</td>\n",
       "      <td>Patroon features a nice cigar bar and has grea...</td>\n",
       "      <td>service</td>\n",
       "      <td>positive</td>\n",
       "      <td>patroon features a nice cigar bar and has grea...</td>\n",
       "    </tr>\n",
       "    <tr>\n",
       "      <th>4</th>\n",
       "      <td>1328</td>\n",
       "      <td>Also, the hostess called me today to thank us ...</td>\n",
       "      <td>service</td>\n",
       "      <td>positive</td>\n",
       "      <td>also the hostess called me today to thank us f...</td>\n",
       "    </tr>\n",
       "  </tbody>\n",
       "</table>\n",
       "</div>"
      ],
      "text/plain": [
       "     id                                               text  \\\n",
       "0  1370    I'm still mad that i had to pay for lousy food.   \n",
       "1  1212  It's really a takeaway place, I wouldn't sit i...   \n",
       "2  2958  It is sometimes a little cramped, and can get ...   \n",
       "3  2647  Patroon features a nice cigar bar and has grea...   \n",
       "4  1328  Also, the hostess called me today to thank us ...   \n",
       "\n",
       "            aspectCategory  polarity  \\\n",
       "0                     food  negative   \n",
       "1  anecdotes/miscellaneous   neutral   \n",
       "2                 ambience  conflict   \n",
       "3                  service  positive   \n",
       "4                  service  positive   \n",
       "\n",
       "                                          clean_text  \n",
       "0      im still mad that i had to pay for lousy food  \n",
       "1  its really a takeaway place i wouldnt sit if i...  \n",
       "2  it is sometimes a little cramped and can get a...  \n",
       "3  patroon features a nice cigar bar and has grea...  \n",
       "4  also the hostess called me today to thank us f...  "
      ]
     },
     "execution_count": 22,
     "metadata": {},
     "output_type": "execute_result"
    }
   ],
   "source": [
    "train_df.head()"
   ]
  },
  {
   "cell_type": "code",
   "execution_count": 9,
   "id": "dd723296",
   "metadata": {},
   "outputs": [
    {
     "name": "stdout",
     "output_type": "stream",
     "text": [
      "Aspect classes: ['ambience' 'anecdotes/miscellaneous' 'food' 'price' 'service']\n"
     ]
    }
   ],
   "source": [
    "# Group aspects for train\n",
    "train_aspects = train_df.groupby([\"id\", \"clean_text\"])[\"aspectCategory\"].apply(list).reset_index()\n",
    "val_aspects   = val_df.groupby([\"id\", \"clean_text\"])[\"aspectCategory\"].apply(list).reset_index()\n",
    "\n",
    "# Fit encoder on train\n",
    "mlb = MultiLabelBinarizer()\n",
    "y_train_aspect = mlb.fit_transform(train_aspects[\"aspectCategory\"])\n",
    "y_val_aspect   = mlb.transform(val_aspects[\"aspectCategory\"])\n",
    "\n",
    "print(\"Aspect classes:\", mlb.classes_)\n"
   ]
  },
  {
   "cell_type": "code",
   "execution_count": 10,
   "id": "cae91d2f",
   "metadata": {},
   "outputs": [],
   "source": [
    "tfidf_aspect = TfidfVectorizer(max_features=10000, ngram_range=(1,2))\n",
    "X_train_aspect = tfidf_aspect.fit_transform(train_aspects[\"clean_text\"])\n",
    "X_val_aspect   = tfidf_aspect.transform(val_aspects[\"clean_text\"])\n"
   ]
  },
  {
   "cell_type": "code",
   "execution_count": 11,
   "id": "03c7f09d",
   "metadata": {},
   "outputs": [],
   "source": [
    "train_sentiment = train_df.copy()\n",
    "val_sentiment   = val_df.copy()\n",
    "\n",
    "train_sentiment[\"input_text\"] = train_sentiment[\"aspectCategory\"] + \" : \" + train_sentiment[\"clean_text\"]\n",
    "val_sentiment[\"input_text\"]   = val_sentiment[\"aspectCategory\"] + \" : \" + val_sentiment[\"clean_text\"]\n",
    "\n",
    "X_train_sent = train_sentiment[\"input_text\"]\n",
    "y_train_sent = train_sentiment[\"polarity\"]\n",
    "\n",
    "X_val_sent   = val_sentiment[\"input_text\"]\n",
    "y_val_sent   = val_sentiment[\"polarity\"]\n",
    "\n",
    "# TF-IDF\n",
    "tfidf_sentiment = TfidfVectorizer(max_features=10000, ngram_range=(1,2))\n",
    "X_train_sent = tfidf_sentiment.fit_transform(X_train_sent)\n",
    "X_val_sent   = tfidf_sentiment.transform(X_val_sent)\n"
   ]
  },
  {
   "cell_type": "code",
   "execution_count": 19,
   "id": "737490c7",
   "metadata": {},
   "outputs": [
    {
     "name": "stdout",
     "output_type": "stream",
     "text": [
      "Aspect Classification Report:\n",
      "                         precision    recall  f1-score   support\n",
      "\n",
      "               ambience       0.43      0.56      0.48        82\n",
      "anecdotes/miscellaneous       0.65      0.74      0.69       174\n",
      "                   food       0.59      0.77      0.67       204\n",
      "                  price       0.36      0.50      0.42        54\n",
      "                service       0.58      0.70      0.64       118\n",
      "\n",
      "              micro avg       0.56      0.70      0.62       632\n",
      "              macro avg       0.52      0.66      0.58       632\n",
      "           weighted avg       0.56      0.70      0.62       632\n",
      "            samples avg       0.58      0.70      0.62       632\n",
      "\n",
      "Aspect F1 (micro): 0.6212227687983134\n",
      "Aspect F1 (macro): 0.5797209235149905\n"
     ]
    },
    {
     "name": "stderr",
     "output_type": "stream",
     "text": [
      "/Library/Frameworks/Python.framework/Versions/3.13/lib/python3.13/site-packages/sklearn/metrics/_classification.py:1731: UndefinedMetricWarning: Precision is ill-defined and being set to 0.0 in samples with no predicted labels. Use `zero_division` parameter to control this behavior.\n",
      "  _warn_prf(average, modifier, f\"{metric.capitalize()} is\", result.shape[0])\n"
     ]
    }
   ],
   "source": [
    "import pandas as pd\n",
    "from sklearn.linear_model import LogisticRegression\n",
    "from sklearn.multiclass import OneVsRestClassifier\n",
    "from sklearn.metrics import classification_report, f1_score\n",
    "\n",
    "# ------------------------------\n",
    "# 1. Train Aspect Classifier\n",
    "# ------------------------------\n",
    "aspect_clf = OneVsRestClassifier(\n",
    "    LogisticRegression(max_iter=200, class_weight=\"balanced\")\n",
    ")\n",
    "aspect_clf.fit(X_train_aspect, y_train_aspect)\n",
    "\n",
    "# Predict on validation set\n",
    "y_val_aspect_pred = aspect_clf.predict(X_val_aspect)\n",
    "\n",
    "# Evaluate aspect classifier\n",
    "print(\"Aspect Classification Report:\")\n",
    "print(classification_report(y_val_aspect, y_val_aspect_pred, target_names=mlb.classes_))\n",
    "\n",
    "f1_micro = f1_score(y_val_aspect, y_val_aspect_pred, average=\"micro\")\n",
    "f1_macro = f1_score(y_val_aspect, y_val_aspect_pred, average=\"macro\")\n",
    "print(\"Aspect F1 (micro):\", f1_micro)\n",
    "print(\"Aspect F1 (macro):\", f1_macro)"
   ]
  },
  {
   "cell_type": "code",
   "execution_count": 20,
   "id": "05bbadd6",
   "metadata": {},
   "outputs": [
    {
     "name": "stdout",
     "output_type": "stream",
     "text": [
      "Sentiment Classification Report (using gold aspects):\n",
      "              precision    recall  f1-score   support\n",
      "\n",
      "    conflict       0.27      0.39      0.32        33\n",
      "    negative       0.56      0.58      0.57       143\n",
      "     neutral       0.51      0.68      0.58        80\n",
      "    positive       0.86      0.75      0.80       376\n",
      "\n",
      "    accuracy                           0.69       632\n",
      "   macro avg       0.55      0.60      0.57       632\n",
      "weighted avg       0.72      0.69      0.70       632\n",
      "\n"
     ]
    },
    {
     "name": "stderr",
     "output_type": "stream",
     "text": [
      "/Library/Frameworks/Python.framework/Versions/3.13/lib/python3.13/site-packages/sklearn/linear_model/_logistic.py:1272: FutureWarning: 'multi_class' was deprecated in version 1.5 and will be removed in 1.7. From then on, it will always use 'multinomial'. Leave it to its default value to avoid this warning.\n",
      "  warnings.warn(\n"
     ]
    }
   ],
   "source": [
    "# ------------------------------\n",
    "# 2. Train Sentiment Classifier\n",
    "# ------------------------------\n",
    "sentiment_clf = LogisticRegression(\n",
    "    max_iter=200, class_weight=\"balanced\", multi_class=\"multinomial\"\n",
    ")\n",
    "sentiment_clf.fit(X_train_sent, y_train_sent)\n",
    "\n",
    "# Optional: evaluate on validation sentiment set using gold aspects\n",
    "y_val_sent_pred_gold = sentiment_clf.predict(X_val_sent)\n",
    "print(\"Sentiment Classification Report (using gold aspects):\")\n",
    "print(classification_report(y_val_sent, y_val_sent_pred_gold))\n"
   ]
  },
  {
   "cell_type": "code",
   "execution_count": 21,
   "id": "bba30b52",
   "metadata": {},
   "outputs": [
    {
     "name": "stdout",
     "output_type": "stream",
     "text": [
      "Saved val_pred.csv and val_truth.csv ✅\n"
     ]
    }
   ],
   "source": [
    "# ------------------------------\n",
    "# 3. Generate val_pred.csv using predicted aspects\n",
    "# ------------------------------\n",
    "aspect_labels = mlb.classes_\n",
    "pred_rows = []\n",
    "\n",
    "for i, aspect_row in enumerate(y_val_aspect_pred):\n",
    "    text_id = val_aspects.iloc[i][\"id\"]\n",
    "    text_clean = val_aspects.iloc[i][\"clean_text\"]\n",
    "\n",
    "    for j, val in enumerate(aspect_row):\n",
    "        if val == 1:\n",
    "            aspect_name = aspect_labels[j]\n",
    "\n",
    "            # Prepare input for sentiment: \"aspect: text\"\n",
    "            input_text = aspect_name + \" : \" + text_clean\n",
    "            input_vect = tfidf_sentiment.transform([input_text])\n",
    "            pred_sentiment = sentiment_clf.predict(input_vect)[0]\n",
    "\n",
    "            pred_rows.append({\n",
    "                \"id\": text_id,\n",
    "                \"aspectCategory\": aspect_name,\n",
    "                \"polarity\": pred_sentiment\n",
    "            })\n",
    "\n",
    "# ------------------------------\n",
    "# 4. Save prediction and truth CSVs\n",
    "# ------------------------------\n",
    "val_pred = pd.DataFrame(pred_rows)\n",
    "val_pred.to_csv(\"logreg_val_pred.csv\", index=False)\n",
    "\n",
    "\n",
    "print(\"Saved val_pred.csv and val_truth.csv ✅\")"
   ]
  },
  {
   "cell_type": "code",
   "execution_count": null,
   "id": "1f2cf2f2",
   "metadata": {},
   "outputs": [],
   "source": []
  }
 ],
 "metadata": {
  "kernelspec": {
   "display_name": "Python 3",
   "language": "python",
   "name": "python3"
  },
  "language_info": {
   "codemirror_mode": {
    "name": "ipython",
    "version": 3
   },
   "file_extension": ".py",
   "mimetype": "text/x-python",
   "name": "python",
   "nbconvert_exporter": "python",
   "pygments_lexer": "ipython3",
   "version": "3.13.0"
  }
 },
 "nbformat": 4,
 "nbformat_minor": 5
}
